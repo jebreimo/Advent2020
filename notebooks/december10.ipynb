{
 "cells": [
  {
   "cell_type": "code",
   "execution_count": 1,
   "metadata": {},
   "outputs": [],
   "source": [
    "auto INPUT = R\"(66\n",
    "7\n",
    "73\n",
    "162\n",
    "62\n",
    "165\n",
    "157\n",
    "158\n",
    "137\n",
    "125\n",
    "138\n",
    "59\n",
    "36\n",
    "40\n",
    "94\n",
    "95\n",
    "13\n",
    "35\n",
    "136\n",
    "96\n",
    "156\n",
    "155\n",
    "24\n",
    "84\n",
    "42\n",
    "171\n",
    "142\n",
    "3\n",
    "104\n",
    "149\n",
    "83\n",
    "129\n",
    "19\n",
    "122\n",
    "68\n",
    "103\n",
    "74\n",
    "118\n",
    "20\n",
    "110\n",
    "54\n",
    "127\n",
    "88\n",
    "31\n",
    "135\n",
    "26\n",
    "126\n",
    "2\n",
    "51\n",
    "91\n",
    "16\n",
    "65\n",
    "128\n",
    "119\n",
    "67\n",
    "48\n",
    "111\n",
    "29\n",
    "49\n",
    "12\n",
    "132\n",
    "17\n",
    "41\n",
    "166\n",
    "75\n",
    "146\n",
    "50\n",
    "30\n",
    "1\n",
    "164\n",
    "112\n",
    "34\n",
    "18\n",
    "72\n",
    "97\n",
    "145\n",
    "11\n",
    "117\n",
    "58\n",
    "78\n",
    "152\n",
    "90\n",
    "172\n",
    "163\n",
    "89\n",
    "107\n",
    "45\n",
    "37\n",
    "79\n",
    "159\n",
    "141\n",
    "105\n",
    "10\n",
    "115\n",
    "69\n",
    "170\n",
    "25\n",
    "100\n",
    "80\n",
    "4\n",
    "85\n",
    "169\n",
    "106\n",
    "57\n",
    "116\n",
    "23)\";"
   ]
  },
  {
   "cell_type": "code",
   "execution_count": 2,
   "metadata": {},
   "outputs": [],
   "source": [
    "#include <sstream>\n",
    "#include <iterator>\n",
    "#include <vector>\n",
    "#include <algorithm>\n",
    "#include <iostream>"
   ]
  },
  {
   "cell_type": "code",
   "execution_count": 3,
   "metadata": {},
   "outputs": [],
   "source": [
    "std::stringstream ss(INPUT);\n",
    "std::vector<int> nums = {0};\n",
    "std::copy(std::istream_iterator<int>(ss),\n",
    "          std::istream_iterator<int>(),\n",
    "          std::back_inserter(nums));"
   ]
  },
  {
   "cell_type": "code",
   "execution_count": 4,
   "metadata": {},
   "outputs": [
    {
     "name": "stdout",
     "output_type": "stream",
     "text": [
      "107"
     ]
    }
   ],
   "source": [
    "std::cout << nums.size();"
   ]
  },
  {
   "cell_type": "code",
   "execution_count": 5,
   "metadata": {},
   "outputs": [],
   "source": [
    "std::sort(nums.begin(), nums.end());"
   ]
  },
  {
   "cell_type": "code",
   "execution_count": 6,
   "metadata": {},
   "outputs": [
    {
     "name": "stdout",
     "output_type": "stream",
     "text": [
      "1: 73, 2: 0, 3: 34\n",
      "1x3: 2482\n"
     ]
    }
   ],
   "source": [
    "int n[3] = {0, 0, 1};\n",
    "for (auto it = next(nums.begin()); it != nums.end(); ++it)\n",
    "{\n",
    "    auto diff = *it - *(it - 1);\n",
    "    if (1 <= diff && diff <= 3)\n",
    "        n[diff - 1]++;\n",
    "    else\n",
    "        std::cerr << \"Difference is outside the range 1 to 3!\\n\";\n",
    "}\n",
    "std::cout << \"1: \" << n[0] << \", 2: \" << n[1] << \", 3: \" << n[2] << \"\\n\"\n",
    "          << \"1x3: \" << n[0] * n[2] << \"\\n\";"
   ]
  },
  {
   "cell_type": "code",
   "execution_count": 7,
   "metadata": {},
   "outputs": [],
   "source": [
    "std::map<int, size_t> path_counts = {};"
   ]
  },
  {
   "cell_type": "code",
   "execution_count": 11,
   "metadata": {},
   "outputs": [],
   "source": [
    "size_t count_adapters(std::vector<int>::const_iterator front, std::vector<int>::const_iterator end)\n",
    "{\n",
    "    if (front == end)\n",
    "        return 0;\n",
    "    if (path_counts.find(*front) != path_counts.end())\n",
    "        return path_counts[*front];\n",
    "    size_t n = 0;\n",
    "    for (auto it = next(front); it != end && *it - *front <= 3; ++it)\n",
    "        n += count_adapters(it, end);\n",
    "    n = std::max(n, size_t(1));\n",
    "    path_counts[*front] = n;\n",
    "    // std::cout << *front << \": \" << n << \"\\n\";\n",
    "    return n;\n",
    "}"
   ]
  },
  {
   "cell_type": "code",
   "execution_count": 12,
   "metadata": {},
   "outputs": [
    {
     "name": "stdout",
     "output_type": "stream",
     "text": [
      "96717311574016"
     ]
    }
   ],
   "source": [
    "std::cout << count_adapters(nums.cbegin(), nums.cend());"
   ]
  },
  {
   "cell_type": "code",
   "execution_count": null,
   "metadata": {},
   "outputs": [],
   "source": []
  }
 ],
 "metadata": {
  "kernelspec": {
   "display_name": "C++17",
   "language": "C++17",
   "name": "xcpp17"
  },
  "language_info": {
   "codemirror_mode": "text/x-c++src",
   "file_extension": ".cpp",
   "mimetype": "text/x-c++src",
   "name": "c++",
   "version": "17"
  }
 },
 "nbformat": 4,
 "nbformat_minor": 4
}
