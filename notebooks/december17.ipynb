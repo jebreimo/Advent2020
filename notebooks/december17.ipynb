{
 "cells": [
  {
   "cell_type": "code",
   "execution_count": 50,
   "metadata": {},
   "outputs": [],
   "source": [
    "INPUT = \"\"\"..#..##.\n",
    "#.....##\n",
    "##.#.#.#\n",
    "..#...#.\n",
    ".###....\n",
    "######..\n",
    ".###..#.\n",
    "..#..##.\"\"\".split(\"\\n\")"
   ]
  },
  {
   "cell_type": "code",
   "execution_count": 35,
   "metadata": {},
   "outputs": [],
   "source": [
    "INPUT = \"\"\".#.\n",
    "..#\n",
    "###\"\"\".split(\"\\n\")"
   ]
  },
  {
   "cell_type": "markdown",
   "metadata": {},
   "source": [
    "# Part 1"
   ]
  },
  {
   "cell_type": "code",
   "execution_count": 16,
   "metadata": {},
   "outputs": [],
   "source": [
    "class World3D:\n",
    "    def __init__(self):\n",
    "        self._active = set()\n",
    "        self._extent = None\n",
    "    \n",
    "    def _update_extent(self, x, y, z):\n",
    "        if self._extent is None:\n",
    "            self._extent = [[x, y, z], [x, y, z]]\n",
    "        else:\n",
    "            pos = [x, y, z]\n",
    "            for i, v in enumerate(pos):\n",
    "                if v < self._extent[0][i]:\n",
    "                    self._extent[0][i] = v\n",
    "                elif v > self._extent[1][i]:\n",
    "                    self._extent[1][i] = v\n",
    "        \n",
    "    def activate(self, x, y, z):\n",
    "        self._update_extent(x, y, z)\n",
    "        self._active.add((x, y, z))\n",
    "\n",
    "    def is_active(self, x, y, z):\n",
    "        return (x, y, z) in self._active\n",
    "        \n",
    "    def neighbors(self, x, y, z):\n",
    "        n = 0\n",
    "        for i in range(x-1, x+2):\n",
    "            for j in range(y-1, y+2):\n",
    "                for k in range(z-1, z+2):\n",
    "                    if (i != x or j != y or k != z) and (i, j, k) in self._active:\n",
    "                        n += 1\n",
    "        return n\n",
    "    \n",
    "    def count_active(self):\n",
    "        return len(self._active)"
   ]
  },
  {
   "cell_type": "code",
   "execution_count": 30,
   "metadata": {},
   "outputs": [],
   "source": [
    "w = World3D()\n",
    "for y, line in enumerate(INPUT):\n",
    "    for x, c in enumerate(line):\n",
    "        if c == \"#\":\n",
    "            w.activate(x, y, 0)"
   ]
  },
  {
   "cell_type": "code",
   "execution_count": 31,
   "metadata": {},
   "outputs": [],
   "source": [
    "def next_cycle(world):\n",
    "    out = World3D()\n",
    "    ext = world._extent\n",
    "    for x in range(ext[0][0]-1, ext[1][0]+2):\n",
    "        for y in range(ext[0][1]-1, ext[1][1]+2):\n",
    "            for z in range(ext[0][2]-1, ext[1][2]+2):\n",
    "                n = world.neighbors(x, y, z)\n",
    "                a = world.is_active(x, y, z)\n",
    "                if a and 2 <= n <= 3:\n",
    "                    out.activate(x, y, z)\n",
    "                elif not a and n == 3:\n",
    "                    out.activate(x, y, z)\n",
    "    return out"
   ]
  },
  {
   "cell_type": "code",
   "execution_count": 32,
   "metadata": {},
   "outputs": [],
   "source": [
    "for i in range(6):\n",
    "    w = next_cycle(w)"
   ]
  },
  {
   "cell_type": "code",
   "execution_count": 33,
   "metadata": {},
   "outputs": [
    {
     "data": {
      "text/plain": [
       "298"
      ]
     },
     "execution_count": 33,
     "metadata": {},
     "output_type": "execute_result"
    }
   ],
   "source": [
    "w.count_active()"
   ]
  },
  {
   "cell_type": "code",
   "execution_count": 45,
   "metadata": {},
   "outputs": [],
   "source": [
    "class World4D:\n",
    "    def __init__(self):\n",
    "        self._active = set()\n",
    "        self._extent = None\n",
    "    \n",
    "    def _update_extent(self, x, y, z, w):\n",
    "        if self._extent is None:\n",
    "            self._extent = [[x, y, z, w], [x, y, z, w]]\n",
    "        else:\n",
    "            pos = [x, y, z, w]\n",
    "            for i, v in enumerate(pos):\n",
    "                if v < self._extent[0][i]:\n",
    "                    self._extent[0][i] = v\n",
    "                elif v > self._extent[1][i]:\n",
    "                    self._extent[1][i] = v\n",
    "        \n",
    "    def activate(self, x, y, z, w):\n",
    "        self._update_extent(x, y, z, w)\n",
    "        self._active.add((x, y, z, w))\n",
    "\n",
    "    def is_active(self, x, y, z, w):\n",
    "        return (x, y, z, w) in self._active\n",
    "        \n",
    "    def neighbors(self, x, y, z, w):\n",
    "        n = 0\n",
    "        for i in range(x-1, x+2):\n",
    "            for j in range(y-1, y+2):\n",
    "                for k in range(z-1, z+2):\n",
    "                    for m in range(w-1, w+2):\n",
    "                        if (i != x or j != y or k != z or m != w) and (i, j, k, m) in self._active:\n",
    "                            n += 1\n",
    "        return n\n",
    "    \n",
    "    def count_active(self):\n",
    "        return len(self._active)"
   ]
  },
  {
   "cell_type": "code",
   "execution_count": 51,
   "metadata": {},
   "outputs": [],
   "source": [
    "w = World4D()\n",
    "for y, line in enumerate(INPUT):\n",
    "    for x, c in enumerate(line):\n",
    "        if c == \"#\":\n",
    "            w.activate(x, y, 0, 0)"
   ]
  },
  {
   "cell_type": "code",
   "execution_count": 52,
   "metadata": {},
   "outputs": [],
   "source": [
    "def next_cycle(world):\n",
    "    out = World4D()\n",
    "    ext = world._extent\n",
    "    for x in range(ext[0][0]-1, ext[1][0]+2):\n",
    "        for y in range(ext[0][1]-1, ext[1][1]+2):\n",
    "            for z in range(ext[0][2]-1, ext[1][2]+2):\n",
    "                for w in range(ext[0][3]-1, ext[1][3]+2):\n",
    "                    n = world.neighbors(x, y, z, w)\n",
    "                    a = world.is_active(x, y, z, w)\n",
    "                    if a and 2 <= n <= 3:\n",
    "                        out.activate(x, y, z, w)\n",
    "                    elif not a and n == 3:\n",
    "                        out.activate(x, y, z, w)\n",
    "    return out"
   ]
  },
  {
   "cell_type": "code",
   "execution_count": 53,
   "metadata": {},
   "outputs": [],
   "source": [
    "for i in range(6):\n",
    "    w = next_cycle(w)"
   ]
  },
  {
   "cell_type": "code",
   "execution_count": 54,
   "metadata": {},
   "outputs": [
    {
     "data": {
      "text/plain": [
       "1792"
      ]
     },
     "execution_count": 54,
     "metadata": {},
     "output_type": "execute_result"
    }
   ],
   "source": [
    "w.count_active()"
   ]
  },
  {
   "cell_type": "code",
   "execution_count": null,
   "metadata": {},
   "outputs": [],
   "source": []
  }
 ],
 "metadata": {
  "kernelspec": {
   "display_name": "Python 3",
   "language": "python",
   "name": "python3"
  },
  "language_info": {
   "codemirror_mode": {
    "name": "ipython",
    "version": 3
   },
   "file_extension": ".py",
   "mimetype": "text/x-python",
   "name": "python",
   "nbconvert_exporter": "python",
   "pygments_lexer": "ipython3",
   "version": "3.7.9"
  }
 },
 "nbformat": 4,
 "nbformat_minor": 4
}
