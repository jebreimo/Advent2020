{
 "cells": [
  {
   "cell_type": "code",
   "execution_count": 18,
   "metadata": {},
   "outputs": [
    {
     "name": "stdout",
     "output_type": "stream",
     "text": [
      "8987376\n",
      "14382089\n"
     ]
    }
   ],
   "source": [
    "CARD = 3418282\n",
    "DOOR = 8719412\n",
    "#CARD = 5764801\n",
    "#DOOR = 17807724\n",
    "\n",
    "def generate_values():\n",
    "    value = 1\n",
    "    while True:\n",
    "        value = (value * 7) % 20201227\n",
    "        yield value\n",
    "\n",
    "def find_loop_count(value):\n",
    "    for i, n in enumerate(generate_values()):\n",
    "        if n == value:\n",
    "            return i + 1\n",
    "        if i > 100000000:\n",
    "            return None\n",
    "\n",
    "CARD_COUNT = find_loop_count(CARD)\n",
    "print(CARD_COUNT)\n",
    "DOOR_COUNT = find_loop_count(DOOR)\n",
    "print(DOOR_COUNT)"
   ]
  },
  {
   "cell_type": "code",
   "execution_count": 19,
   "metadata": {},
   "outputs": [
    {
     "name": "stdout",
     "output_type": "stream",
     "text": [
      "9620012\n",
      "9620012\n"
     ]
    }
   ],
   "source": [
    "def transform_value(subject_number, loop_count):\n",
    "    value = 1\n",
    "    for i in range(loop_count):\n",
    "        value = (value * subject_number) % 20201227\n",
    "    return value\n",
    "\n",
    "print(transform_value(CARD, DOOR_COUNT))\n",
    "print(transform_value(DOOR, CARD_COUNT))"
   ]
  },
  {
   "cell_type": "code",
   "execution_count": null,
   "metadata": {},
   "outputs": [],
   "source": []
  }
 ],
 "metadata": {
  "kernelspec": {
   "display_name": "Python 3",
   "language": "python",
   "name": "python3"
  },
  "language_info": {
   "codemirror_mode": {
    "name": "ipython",
    "version": 3
   },
   "file_extension": ".py",
   "mimetype": "text/x-python",
   "name": "python",
   "nbconvert_exporter": "python",
   "pygments_lexer": "ipython3",
   "version": "3.7.9"
  }
 },
 "nbformat": 4,
 "nbformat_minor": 4
}
