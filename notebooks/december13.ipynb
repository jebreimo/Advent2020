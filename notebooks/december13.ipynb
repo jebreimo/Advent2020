{
 "cells": [
  {
   "cell_type": "code",
   "execution_count": 2,
   "metadata": {},
   "outputs": [],
   "source": [
    "INPUT = \"\"\"1002460\n",
    "29,x,x,x,x,x,x,x,x,x,x,x,x,x,x,x,x,x,x,41,x,x,x,x,x,x,x,x,x,601,x,x,x,x,x,x,x,23,x,x,x,x,13,x,x,x,17,x,19,x,x,x,x,x,x,x,x,x,x,x,463,x,x,x,x,x,x,x,x,x,x,x,x,x,x,x,x,x,x,x,x,x,x,x,x,x,x,x,x,x,x,x,x,x,x,x,x,37\"\"\".split()"
   ]
  },
  {
   "cell_type": "markdown",
   "metadata": {},
   "source": [
    "# Part 1"
   ]
  },
  {
   "cell_type": "code",
   "execution_count": 4,
   "metadata": {},
   "outputs": [],
   "source": [
    "TIME = int(INPUT[0])\n",
    "BUSES = sorted((int(s) for s in INPUT[1].split(\",\") if s != \"x\"))"
   ]
  },
  {
   "cell_type": "code",
   "execution_count": 5,
   "metadata": {},
   "outputs": [
    {
     "data": {
      "text/plain": [
       "[13, 17, 19, 23, 29, 37, 41, 463, 601]"
      ]
     },
     "execution_count": 5,
     "metadata": {},
     "output_type": "execute_result"
    }
   ],
   "source": [
    "BUSES"
   ]
  },
  {
   "cell_type": "code",
   "execution_count": 6,
   "metadata": {},
   "outputs": [
    {
     "name": "stdout",
     "output_type": "stream",
     "text": [
      "13: 9\n",
      "17: 13\n",
      "19: 18\n",
      "23: 18\n",
      "29: 12\n",
      "37: 18\n",
      "41: 31\n",
      "463: 398\n",
      "601: 8\n"
     ]
    }
   ],
   "source": [
    "for n in BUSES:\n",
    "    m = TIME % n\n",
    "    if m == 0:\n",
    "        m = n\n",
    "    print(f\"{n}: {n - m}\")"
   ]
  },
  {
   "cell_type": "code",
   "execution_count": 7,
   "metadata": {},
   "outputs": [
    {
     "data": {
      "text/plain": [
       "4808"
      ]
     },
     "execution_count": 7,
     "metadata": {},
     "output_type": "execute_result"
    }
   ],
   "source": [
    "601 * 8"
   ]
  },
  {
   "cell_type": "markdown",
   "metadata": {},
   "source": [
    "# Part 2"
   ]
  },
  {
   "cell_type": "code",
   "execution_count": 37,
   "metadata": {},
   "outputs": [],
   "source": [
    "BUSES2 = [int(s) if s != \"x\" else 0 for s in INPUT[1].split(\",\")]"
   ]
  },
  {
   "cell_type": "code",
   "execution_count": 38,
   "metadata": {},
   "outputs": [],
   "source": [
    "values = [(n, i) for i, n in enumerate(BUSES2) if n]"
   ]
  },
  {
   "cell_type": "code",
   "execution_count": 39,
   "metadata": {},
   "outputs": [
    {
     "data": {
      "text/plain": [
       "[(29, 0),\n",
       " (41, 19),\n",
       " (601, 29),\n",
       " (23, 37),\n",
       " (13, 42),\n",
       " (17, 46),\n",
       " (19, 48),\n",
       " (463, 60),\n",
       " (37, 97)]"
      ]
     },
     "execution_count": 39,
     "metadata": {},
     "output_type": "execute_result"
    }
   ],
   "source": [
    "values"
   ]
  },
  {
   "cell_type": "code",
   "execution_count": 40,
   "metadata": {},
   "outputs": [
    {
     "name": "stdout",
     "output_type": "stream",
     "text": [
      "41: 145\n",
      "601: 400838\n",
      "23: 13978029\n",
      "13: 145462405\n",
      "17: 2068421404\n",
      "19: 63816771483\n",
      "463: 6827077233077\n",
      "37: 741745043105674\n"
     ]
    }
   ],
   "source": [
    "step = values[0][0]\n",
    "start = 0\n",
    "for n, off in values[1:]:\n",
    "    for i in range(1000):\n",
    "        if (start + i * step + off) % n == 0:\n",
    "            start = start + i * step\n",
    "            step *= n\n",
    "            print(f\"{n}: {start}\")\n",
    "            break\n",
    "    else:\n",
    "        print(\"Not found!\")\n",
    "        break"
   ]
  }
 ],
 "metadata": {
  "kernelspec": {
   "display_name": "Python 3",
   "language": "python",
   "name": "python3"
  },
  "language_info": {
   "codemirror_mode": {
    "name": "ipython",
    "version": 3
   },
   "file_extension": ".py",
   "mimetype": "text/x-python",
   "name": "python",
   "nbconvert_exporter": "python",
   "pygments_lexer": "ipython3",
   "version": "3.7.9"
  }
 },
 "nbformat": 4,
 "nbformat_minor": 4
}
