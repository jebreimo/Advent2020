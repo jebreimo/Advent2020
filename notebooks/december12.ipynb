{
 "cells": [
  {
   "cell_type": "code",
   "execution_count": 1,
   "metadata": {},
   "outputs": [],
   "source": [
    "INPUT = [(s[0], int(s[1:])) for s in open(\"/Users/janeb/Repositories/Advent2020/notebooks/december12_input.txt\")]"
   ]
  },
  {
   "cell_type": "code",
   "execution_count": 26,
   "metadata": {},
   "outputs": [],
   "source": [
    "def left(dir, degs):\n",
    "    if degs == 90:\n",
    "        dir = -dir[1], dir[0]\n",
    "    elif degs == 180:\n",
    "        dir = -dir[0], -dir[1]\n",
    "    elif degs == 270:\n",
    "        dir = dir[1], -dir[0]\n",
    "    return dir\n",
    "\n",
    "def right(dir, degs):\n",
    "    return left(dir, 360 - degs)\n",
    "\n",
    "def forward(pos, dir, steps):\n",
    "    return pos[0] + steps * dir[0], pos[1] + steps * dir[1]"
   ]
  },
  {
   "cell_type": "code",
   "execution_count": 27,
   "metadata": {},
   "outputs": [],
   "source": [
    "pos = 0, 0\n",
    "dir = 1, 0\n",
    "for cmd, n in INPUT:\n",
    "    if cmd == \"L\":\n",
    "        dir = left(dir, n)\n",
    "    elif cmd == \"R\":\n",
    "        dir = right(dir, n)\n",
    "    elif cmd == \"F\":\n",
    "        pos = forward(pos, dir, n)\n",
    "    elif cmd == \"N\":\n",
    "        pos = forward(pos, (0, 1), n)\n",
    "    elif cmd == \"E\":\n",
    "        pos = forward(pos, (1, 0), n)\n",
    "    elif cmd == \"S\":\n",
    "        pos = forward(pos, (0, -1), n)\n",
    "    elif cmd == \"W\":\n",
    "        pos = forward(pos, (-1, 0), n)"
   ]
  },
  {
   "cell_type": "code",
   "execution_count": 28,
   "metadata": {},
   "outputs": [
    {
     "data": {
      "text/plain": [
       "(1253, -1044)"
      ]
     },
     "execution_count": 28,
     "metadata": {},
     "output_type": "execute_result"
    }
   ],
   "source": [
    "pos"
   ]
  },
  {
   "cell_type": "code",
   "execution_count": 29,
   "metadata": {},
   "outputs": [
    {
     "data": {
      "text/plain": [
       "2297"
      ]
     },
     "execution_count": 29,
     "metadata": {},
     "output_type": "execute_result"
    }
   ],
   "source": [
    "1253 + 1044"
   ]
  },
  {
   "cell_type": "code",
   "execution_count": 30,
   "metadata": {},
   "outputs": [],
   "source": [
    "spos = 0, 0\n",
    "wpos = 10, 1\n",
    "for cmd, n in INPUT:\n",
    "    if cmd == \"L\":\n",
    "        wpos = left(wpos, n)\n",
    "    elif cmd == \"R\":\n",
    "        wpos = right(wpos, n)\n",
    "    elif cmd == \"F\":\n",
    "        spos = forward(spos, wpos, n)\n",
    "    elif cmd == \"N\":\n",
    "        wpos = forward(wpos, (0, 1), n)\n",
    "    elif cmd == \"E\":\n",
    "        wpos = forward(wpos, (1, 0), n)\n",
    "    elif cmd == \"S\":\n",
    "        wpos = forward(wpos, (0, -1), n)\n",
    "    elif cmd == \"W\":\n",
    "        wpos = forward(wpos, (-1, 0), n)"
   ]
  },
  {
   "cell_type": "code",
   "execution_count": 31,
   "metadata": {},
   "outputs": [
    {
     "data": {
      "text/plain": [
       "((-3847, -86137), (-39, 39))"
      ]
     },
     "execution_count": 31,
     "metadata": {},
     "output_type": "execute_result"
    }
   ],
   "source": [
    "spos, wpos"
   ]
  },
  {
   "cell_type": "code",
   "execution_count": 32,
   "metadata": {},
   "outputs": [
    {
     "data": {
      "text/plain": [
       "89984"
      ]
     },
     "execution_count": 32,
     "metadata": {},
     "output_type": "execute_result"
    }
   ],
   "source": [
    "3847 + 86137"
   ]
  },
  {
   "cell_type": "code",
   "execution_count": 17,
   "metadata": {},
   "outputs": [],
   "source": [
    "INPUT2 = INPUT"
   ]
  },
  {
   "cell_type": "code",
   "execution_count": 18,
   "metadata": {},
   "outputs": [],
   "source": [
    "INPUT = [(\"F\", 10), (\"N\", 3), (\"F\", 7), (\"R\", 90), (\"F\", 11)]"
   ]
  },
  {
   "cell_type": "code",
   "execution_count": 21,
   "metadata": {},
   "outputs": [],
   "source": [
    "INPUT = INPUT2"
   ]
  },
  {
   "cell_type": "code",
   "execution_count": null,
   "metadata": {},
   "outputs": [],
   "source": []
  }
 ],
 "metadata": {
  "kernelspec": {
   "display_name": "Python 3",
   "language": "python",
   "name": "python3"
  },
  "language_info": {
   "codemirror_mode": {
    "name": "ipython",
    "version": 3
   },
   "file_extension": ".py",
   "mimetype": "text/x-python",
   "name": "python",
   "nbconvert_exporter": "python",
   "pygments_lexer": "ipython3",
   "version": "3.7.9"
  }
 },
 "nbformat": 4,
 "nbformat_minor": 4
}
